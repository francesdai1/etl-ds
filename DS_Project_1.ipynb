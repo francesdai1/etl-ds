{
 "cells": [
  {
   "cell_type": "markdown",
   "id": "d73c6dbe-cd27-4d0b-8bc0-efd2d15c4c55",
   "metadata": {},
   "source": [
    "# Data Science Project 1\n",
    "## Frances Dai\n",
    "## Omar Zeineddine\n",
    "### needed local files:\n",
    "### - \"new_york2.csv\" < this is the weather data we use to create a sql database\n",
    "### - \"taxi_tripdata.csv\" < NYC taxi trip data used for csv file"
   ]
  },
  {
   "cell_type": "code",
   "execution_count": 79,
   "id": "4bdedd48-07d3-464f-bc43-8b49a4d0791a",
   "metadata": {
    "tags": []
   },
   "outputs": [],
   "source": [
    "import pandas as pd\n",
    "import mysql.connector\n",
    "from mysql.connector import Error\n",
    "import numpy as np\n",
    "from sqlalchemy import create_engine\n",
    "import requests\n",
    "import requests.exceptions\n",
    "import cryptography\n",
    "from urllib.parse import quote_plus"
   ]
  },
  {
   "cell_type": "markdown",
   "id": "59c3af0a-d41b-4be3-9745-9f2fb27d572c",
   "metadata": {
    "tags": []
   },
   "source": [
    "## Source 1: SQL Database (created locally)"
   ]
  },
  {
   "cell_type": "markdown",
   "id": "092394cc-e1da-45ad-bfc7-b021d78f3f02",
   "metadata": {},
   "source": [
    "### Variables"
   ]
  },
  {
   "cell_type": "code",
   "execution_count": 80,
   "id": "b52029a5-36e5-4632-a2e7-b25d5afcd2f3",
   "metadata": {
    "tags": []
   },
   "outputs": [],
   "source": [
    "# MySQL connection information -- change as needed\n",
    "host = \"localhost\"\n",
    "user = \"root\"\n",
    "password = \"ds2002fd\"\n",
    "port = \"3306\"\n",
    "\n",
    "# new york weather data file name, data taken from https://www.visualcrossing.com/weather/weather-data-services, used to create local sql databas\n",
    "csv_file = \"new_york2.csv\"\n",
    "\n",
    "# local sql database info\n",
    "db_name = \"new_york_weather_data\"\n",
    "table_name = \"new_york_weather_data\""
   ]
  },
  {
   "cell_type": "markdown",
   "id": "b9be41b0-b498-4648-a0f4-665e62661514",
   "metadata": {},
   "source": [
    "### Functions"
   ]
  },
  {
   "cell_type": "code",
   "execution_count": 81,
   "id": "d3a3717e-8d1b-45d8-9243-eb1529a382ed",
   "metadata": {
    "tags": []
   },
   "outputs": [],
   "source": [
    "# making new york weather sql database functions\n",
    "\n",
    "# function for server connection and error handle\n",
    "def create_server_connection(host_name, user_name, user_password, port):\n",
    "    connection = None\n",
    "    try:\n",
    "        connection = mysql.connector.connect(\n",
    "            host=host_name,\n",
    "            user=user_name,\n",
    "            passwd=user_password,\n",
    "            port=port\n",
    "        )\n",
    "        print(\"MySQL Database connection successful\")\n",
    "    except Error as err:\n",
    "        print(f\"Error: '{err}'\")\n",
    "    return connection\n",
    "\n",
    "# function to create a database and error handle\n",
    "def create_database(connection, query):\n",
    "    cursor = connection.cursor()\n",
    "    try:\n",
    "        cursor.execute(query)\n",
    "        print(\"Database created success\")\n",
    "    except Error as err:\n",
    "        print(f\"Error: '{err}'\")\n",
    "\n",
    "# function to connect to the database and error handle\n",
    "def create_db_connection(host_name, user_name, user_password, db_name, port):\n",
    "    connection = None\n",
    "    try:\n",
    "        connection = mysql.connector.connect(\n",
    "            host=host_name,\n",
    "            user=user_name,\n",
    "            passwd=user_password,\n",
    "            database=db_name,\n",
    "            port=port\n",
    "        )\n",
    "        print(\"MySQL Database connection successful\")\n",
    "    except Error as err:\n",
    "        print(f\"Error: '{err}'\")\n",
    "    return connection\n",
    "\n",
    "# Function to execute queries and error handle\n",
    "def execute_query(connection, query):\n",
    "    cursor = connection.cursor()\n",
    "    try:\n",
    "        cursor.execute(query)\n",
    "        connection.commit()\n",
    "        print(\"Query successful\")\n",
    "    except Error as err:\n",
    "        print(f\"Error: '{err}'\")\n",
    "\n",
    "# read CSV file into dataframe\n",
    "def read_csv(csv_file):\n",
    "    return pd.read_csv(csv_file)\n",
    "\n",
    "# insert into table\n",
    "def insert_into_table(connection, df, table_name):\n",
    "    cursor = connection.cursor()\n",
    "\n",
    "    df = df.astype(object).where(pd.notnull(df), None)\n",
    "\n",
    "    # SQL INSERT statement\n",
    "    columns = \", \".join([f\"`{col}`\" for col in df.columns])\n",
    "    placeholders = \", \".join([\"%s\" for _ in df.columns])\n",
    "    insert_statement = f\"INSERT INTO {table_name} ({columns}) VALUES ({placeholders})\"\n",
    "\n",
    "    # prep data for insert\n",
    "    data_tuples = [tuple(x) for x in df.values]\n",
    "\n",
    "    # execute and handle errors for sql insert\n",
    "    try:\n",
    "        cursor.executemany(insert_statement, data_tuples)\n",
    "        connection.commit()\n",
    "        print(f\"Data inserted into {table_name} successfully.\")\n",
    "    except Error as err:\n",
    "        print(f\"Error: '{err}'\")"
   ]
  },
  {
   "cell_type": "markdown",
   "id": "25dcbfa7-c769-427e-8b7a-79e078a973c1",
   "metadata": {},
   "source": [
    "### Create Local SQL Database"
   ]
  },
  {
   "cell_type": "code",
   "execution_count": 82,
   "id": "0f896234-b2b6-4591-ae4b-b82efa2dcc5f",
   "metadata": {
    "tags": []
   },
   "outputs": [
    {
     "name": "stdout",
     "output_type": "stream",
     "text": [
      "MySQL Database connection successful\n",
      "Database created success\n",
      "MySQL Database connection successful\n",
      "Query successful\n",
      "Data inserted into new_york_weather_data successfully.\n"
     ]
    }
   ],
   "source": [
    "# read weather csv file into dataframe\n",
    "df = read_csv(csv_file)\n",
    "\n",
    "# connect ot server\n",
    "connection = create_server_connection(host, user, password, port)\n",
    "\n",
    "\n",
    "# connect to database, create if not exist\n",
    "create_database_query = f\"CREATE DATABASE IF NOT EXISTS {db_name};\"\n",
    "create_database(connection, create_database_query)\n",
    "connection = create_db_connection(host, user, password, db_name, port)\n",
    "\n",
    "\n",
    "# create table\n",
    "create_table_query = f\"CREATE TABLE IF NOT EXISTS {table_name} (\" + \", \".join([f\"{col} TEXT\" for col in df.columns]) + \");\"\n",
    "execute_query(connection, create_table_query)\n",
    "\n",
    "# insert weather data\n",
    "insert_into_table(connection, df, table_name)\n"
   ]
  },
  {
   "cell_type": "markdown",
   "id": "7e5521b4-b822-494d-a025-b6403da63615",
   "metadata": {},
   "source": [
    "### Create and Populate Weather Dimension Table"
   ]
  },
  {
   "cell_type": "code",
   "execution_count": 83,
   "id": "d3593396-b83f-4014-a23c-f4c6b77098e9",
   "metadata": {
    "tags": []
   },
   "outputs": [],
   "source": [
    "# fetch data from table function\n",
    "def fetch_data(connection, query):\n",
    "    cursor = connection.cursor()\n",
    "    try:\n",
    "        cursor.execute(query)\n",
    "        result = cursor.fetchall()\n",
    "        return result\n",
    "    except Error as err:\n",
    "        print(f\"Error: '{err}'\")\n",
    "        return None"
   ]
  },
  {
   "cell_type": "code",
   "execution_count": 84,
   "id": "5857bcc0-4964-4365-9e2c-56c0661bd345",
   "metadata": {
    "tags": []
   },
   "outputs": [
    {
     "name": "stdout",
     "output_type": "stream",
     "text": [
      "MySQL Database connection successful\n",
      "Query successful\n",
      "MySQL Database connection successful\n",
      "Query successful\n",
      "MySQL Database connection successful\n",
      "Data insert into weather_dim success\n",
      "new_york_weather_data connection is closed\n",
      "new_york_weather_data connection is closed\n"
     ]
    }
   ],
   "source": [
    "# connect to mysql server\n",
    "connection = create_server_connection(host, user, password, port)\n",
    "\n",
    "# create new scheme for project\n",
    "create_schema_query = \"CREATE SCHEMA IF NOT EXISTS ds_project;\"\n",
    "execute_query(connection, create_schema_query)\n",
    "\n",
    "# connect to schema\n",
    "ds_project_connection = create_db_connection(host, user, password, \"ds_project\", port)\n",
    "\n",
    "# create weather dimension table SQL query with only needed columns from database\n",
    "create_weather_dim_table = \"\"\"\n",
    "CREATE TABLE IF NOT EXISTS weather_dim (\n",
    "    weather_data_key INT AUTO_INCREMENT PRIMARY KEY,\n",
    "    name TEXT,\n",
    "    datetime DATETIME,\n",
    "    preciptype TEXT,\n",
    "    conditions TEXT,\n",
    "    description TEXT\n",
    ");\n",
    "\"\"\"\n",
    "execute_query(ds_project_connection, create_weather_dim_table)\n",
    "\n",
    "# select weather connection fields to be inserted\n",
    "ny_weather_connection = create_db_connection(host, user, password, \"new_york_weather_data\", port)\n",
    "select_query = \"\"\"\n",
    "SELECT name, datetime, preciptype, conditions, description \n",
    "FROM new_york_weather_data;\n",
    "\"\"\"\n",
    "weather_data = fetch_data(ny_weather_connection, select_query)\n",
    "\n",
    "# insert data query\n",
    "insert_query = \"\"\"\n",
    "INSERT INTO weather_dim (name, datetime, preciptype, conditions, description)\n",
    "VALUES (%s, %s, %s, %s, %s);\n",
    "\"\"\"\n",
    "\n",
    "# insert data, handle errors, close other sql connection\n",
    "cursor = ds_project_connection.cursor()\n",
    "try:\n",
    "    cursor.executemany(insert_query, weather_data)\n",
    "    ds_project_connection.commit()\n",
    "    print(f\"Data insert into weather_dim success\")\n",
    "except Error as err:\n",
    "    print(f\"Error: '{err}'\")\n",
    "finally:\n",
    "    cursor.close()\n",
    "    if ny_weather_connection.is_connected():\n",
    "        ny_weather_connection.close()\n",
    "        print(\"new_york_weather_data connection is closed\")\n",
    "    if ds_project_connection.is_connected():\n",
    "        ds_project_connection.close()\n",
    "        print(\"new_york_weather_data connection is closed\")"
   ]
  },
  {
   "cell_type": "markdown",
   "id": "5cc1f0b8-b9e7-4dcf-90a1-aaa3ecb92788",
   "metadata": {},
   "source": [
    "## Source 2: API Call"
   ]
  },
  {
   "cell_type": "markdown",
   "id": "1bd4c49e-3bb4-4cf6-85e4-40187fc0fc5d",
   "metadata": {},
   "source": [
    "### Variables"
   ]
  },
  {
   "cell_type": "code",
   "execution_count": 85,
   "id": "63386c51-5bb9-45c6-a88b-9ed202764115",
   "metadata": {
    "tags": []
   },
   "outputs": [],
   "source": [
    "date_from = \"2021-07-01\"\n",
    "date_to = \"2021-07-08\"\n",
    "stock = \"AAPL\"\n",
    "api_key = \"oH2o7jU2pcpoEgKMCVbMnTaLdegBMFbTGNfX2jhD\"\n",
    "# querystring = {\"api_token\": api_key, \"symbols\":stock, \"date_from\": date_from, \"date_to\": date_to }\n",
    "url = \"https://api.stockdata.org/v1/data/eod\""
   ]
  },
  {
   "cell_type": "markdown",
   "id": "1131830d-bbab-46b9-b2bb-7cba94f30692",
   "metadata": {},
   "source": [
    "### Functions"
   ]
  },
  {
   "cell_type": "code",
   "execution_count": 86,
   "id": "77f41d0d-77a6-4a6a-9937-5968e9cc8d70",
   "metadata": {
    "tags": []
   },
   "outputs": [],
   "source": [
    "# functions for api calls\n",
    "\n",
    "def get_api_response(url, querystring):\n",
    "    try:\n",
    "        response = requests.request(\"GET\", url, params=querystring)\n",
    "        response.raise_for_status()\n",
    "    \n",
    "    except requests.exceptions.HTTPError as errh:\n",
    "        return \"An Http Error occurred: \" + repr(errh)\n",
    "    except requests.exceptions.ConnectionError as errc:\n",
    "        return \"An Error Connecting to the API occurred: \" + repr(errc)\n",
    "    except requests.exceptions.Timeout as errt:\n",
    "        return \"A Timeout Error occurred: \" + repr(errt)\n",
    "    except requests.exceptions.InvalidHeader as erri:\n",
    "        return \"A Header Error occurred: \" + repr(erri)\n",
    "    except requests.exceptions.RequestException as err:\n",
    "        return \"An Unknown Error occurred: \" + repr(err)\n",
    "        \n",
    "    return response.json()\n",
    "\n",
    "# function to insert only needed (transformed) stock data and handle errors\n",
    "def insert_stock_data(connection, ticker, date):\n",
    "    cursor = connection.cursor()\n",
    "    query = \"\"\"\n",
    "    INSERT INTO ds_project.stocks_dim (ticker, date)\n",
    "    VALUES (%s, %s);\n",
    "    \"\"\"\n",
    "    try:\n",
    "        cursor.execute(query, (ticker, date))\n",
    "        connection.commit()\n",
    "    except Error as err:\n",
    "        print(f\"Error: '{err}'\")"
   ]
  },
  {
   "cell_type": "markdown",
   "id": "d071ce30-42d8-4742-90c2-d7ca7fa54f4e",
   "metadata": {},
   "source": [
    "### create and populate table"
   ]
  },
  {
   "cell_type": "code",
   "execution_count": 87,
   "id": "f627ad0a-81cd-4533-a04f-caa3dd32edac",
   "metadata": {
    "tags": []
   },
   "outputs": [
    {
     "name": "stdout",
     "output_type": "stream",
     "text": [
      "Query successful\n",
      "inserting stock data success\n"
     ]
    }
   ],
   "source": [
    "# make stocks_dim table query with only needed columns from api call\n",
    "create_stocks_dim_table = \"\"\"\n",
    "CREATE TABLE IF NOT EXISTS ds_project.stocks_dim (\n",
    "    stock_data_key INT AUTO_INCREMENT PRIMARY KEY,\n",
    "    ticker VARCHAR(10),\n",
    "    date DATE\n",
    ");\n",
    "\"\"\"\n",
    "\n",
    "# execute stock_dim table making query\n",
    "execute_query(connection, create_stocks_dim_table)\n",
    "\n",
    "stocks = [\"AAPL\", \"TSLA\", \"MSFT\", \"GOOG\"]\n",
    "\n",
    "# populate stock data into table\n",
    "for stock in stocks:\n",
    "    querystring = {\"api_token\": api_key, \"symbols\":stock, \"date_from\": date_from, \"date_to\": date_to }\n",
    "    response = get_api_response(url, querystring)\n",
    "    if isinstance(response, dict) and 'data' in response:\n",
    "        for daily_data in response['data']:\n",
    "            insert_stock_data(connection, stock, daily_data['date'][:10]) # trimming time from date\n",
    "    else:\n",
    "        print(f\"Error retrieving data for stock: {stock}\")\n",
    "\n",
    "print(\"inserting stock data success\")"
   ]
  },
  {
   "cell_type": "markdown",
   "id": "19c0b194-dd73-43cc-a21e-50391b5aa981",
   "metadata": {},
   "source": [
    "## Source 3: CSV file"
   ]
  },
  {
   "cell_type": "markdown",
   "id": "3d1fb5bb-e55f-42ff-b68f-d4dd53c73031",
   "metadata": {},
   "source": [
    "## Variables"
   ]
  },
  {
   "cell_type": "code",
   "execution_count": 88,
   "id": "59618a73-02d9-4b78-aa16-07baa9a79ba0",
   "metadata": {
    "tags": []
   },
   "outputs": [],
   "source": [
    "csv_file_path = \"taxi_tripdata.csv\"\n",
    "\n",
    "# dates to insert\n",
    "dates_to_insert = [\n",
    "    \"2021-07-01\",\n",
    "    \"2021-07-02\",\n",
    "    \"2021-07-03\",\n",
    "    \"2021-07-04\",\n",
    "    \"2021-07-05\",\n",
    "    \"2021-07-06\",\n",
    "    \"2021-07-07\",\n",
    "    \"2021-07-08\"\n",
    "]\n",
    "\n",
    "# function for query execute\n",
    "def execute_query(connection, query, values=None):\n",
    "    cursor = connection.cursor()\n",
    "    try:\n",
    "        if values:\n",
    "            cursor.execute(query, values)\n",
    "        else:\n",
    "            cursor.execute(query)\n",
    "        connection.commit()\n",
    "        print(\"Query successful\")\n",
    "    except Error as err:\n",
    "        print(f\"Error: '{err}'\")"
   ]
  },
  {
   "cell_type": "markdown",
   "id": "a543fae8-7842-4b5e-a960-20b6046bd54e",
   "metadata": {},
   "source": [
    "## Create and execute queries"
   ]
  },
  {
   "cell_type": "code",
   "execution_count": 89,
   "id": "d0f0f7b8-dfc0-4c2e-8da6-81cfb836c3b2",
   "metadata": {
    "tags": []
   },
   "outputs": [
    {
     "name": "stderr",
     "output_type": "stream",
     "text": [
      "/var/folders/9r/mbbq5cd95_v_3txywt5j_v1c0000gn/T/ipykernel_6489/3221308781.py:3: DtypeWarning: Columns (3) have mixed types. Specify dtype option on import or set low_memory=False.\n",
      "  df = pd.read_csv(csv_file_path)\n"
     ]
    },
    {
     "name": "stdout",
     "output_type": "stream",
     "text": [
      "Query successful\n",
      "Query successful\n",
      "Query successful\n",
      "Query successful\n",
      "Query successful\n",
      "Query successful\n",
      "Query successful\n",
      "Query successful\n",
      "Query successful\n",
      "taxi dimensional table insert success\n"
     ]
    }
   ],
   "source": [
    "# make nyc taxi_dim table from csv file\n",
    "csv_file_path = \"taxi_tripdata.csv\"\n",
    "df = pd.read_csv(csv_file_path)\n",
    "\n",
    "# transform data by dropping unneccessary columns\n",
    "df.drop([\"VendorID\", \"RatecodeID\", \"store_and_fwd_flag\", \"PULocationID\", \"DOLocationID\", \"passenger_count\", \"extra\", \"lpep_pickup_datetime\", \"extra\", \"mta_tax\", \"tip_amount\", \"tolls_amount\", \"ehail_fee\", \"improvement_surcharge\", \"total_amount\", \"payment_type\", \"trip_type\", \"congestion_surcharge\"], axis=1, inplace=True)\n",
    "\n",
    "\n",
    "# sql query to make nyc taxi table\n",
    "create_taxi_dim_table = \"\"\"\n",
    "CREATE TABLE IF NOT EXISTS ds_project.taxi_dim (\n",
    "    taxi_data_key INT AUTO_INCREMENT PRIMARY KEY,\n",
    "    dropoff_datetime DATETIME,\n",
    "    trip_distance DECIMAL(5, 2)\n",
    ");\n",
    "\"\"\"\n",
    "# create table\n",
    "execute_query(connection, create_taxi_dim_table)\n",
    "\n",
    "# insert sql query\n",
    "insert_taxi_data_query = \"\"\"\n",
    "INSERT INTO ds_project.taxi_dim (dropoff_datetime, trip_distance)\n",
    "VALUES (%s, %s);\n",
    "\"\"\"\n",
    "\n",
    "\n",
    "# populate taxi_dim\n",
    "for date_string in dates_to_insert:\n",
    "    filtered_df = df[pd.to_datetime(df['lpep_dropoff_datetime']).dt.date == pd.to_datetime(date_string).date()]\n",
    "    if not filtered_df.empty:\n",
    "        first_entry = filtered_df.iloc[0]\n",
    "        dropoff_datetime = pd.to_datetime(first_entry['lpep_dropoff_datetime'])\n",
    "        trip_distance = first_entry['trip_distance']\n",
    "        \n",
    "        # insert data\n",
    "        execute_query(connection, insert_taxi_data_query, (dropoff_datetime, trip_distance))\n",
    "    else:\n",
    "        print(f\"No data for date {date_string}\")\n",
    "\n",
    "print(\"taxi dimensional table insert success\")"
   ]
  },
  {
   "cell_type": "markdown",
   "id": "e540f251-869d-4e04-b2ed-3603fbfca39b",
   "metadata": {},
   "source": [
    "### Turning Dimension Tables into Data Frames"
   ]
  },
  {
   "cell_type": "markdown",
   "id": "4cf45ac4-51e3-409b-963b-e573a9f28bdd",
   "metadata": {},
   "source": [
    "### Variables"
   ]
  },
  {
   "cell_type": "code",
   "execution_count": 90,
   "id": "44abc6eb-54c0-43b4-9c1b-0e86c347db66",
   "metadata": {
    "tags": []
   },
   "outputs": [],
   "source": [
    "# sql queries\n",
    "sql_taxi = \"SELECT * FROM ds_project.taxi_dim;\"\n",
    "sql_weather = \"SELECT * FROM ds_project.weather_dim;\"\n",
    "sql_stock = \"SELECT * FROM ds_project.stocks_dim;\""
   ]
  },
  {
   "cell_type": "markdown",
   "id": "465c798c-94a1-4a17-b12e-9e032338a5d3",
   "metadata": {},
   "source": [
    "### Function"
   ]
  },
  {
   "cell_type": "code",
   "execution_count": 91,
   "id": "cbf16330-e705-49d0-a945-4117f20979c2",
   "metadata": {
    "tags": []
   },
   "outputs": [],
   "source": [
    "def get_dataframe(user_id, pwd, host_name, sql_query):\n",
    "    conn_str = f\"mysql+pymysql://{user_id}:{pwd}@{host_name}/ds_project\"\n",
    "    sqlEngine = create_engine(conn_str, pool_recycle=3600)\n",
    "    connection = sqlEngine.connect()\n",
    "    dframe = pd.read_sql(sql_query, connection);\n",
    "    connection.close()\n",
    "    \n",
    "    return dframe"
   ]
  },
  {
   "cell_type": "code",
   "execution_count": 92,
   "id": "1c15ee27-845a-43c5-8fec-bcf484c4f69c",
   "metadata": {
    "tags": []
   },
   "outputs": [
    {
     "name": "stdout",
     "output_type": "stream",
     "text": [
      "   stock_data_key ticker        date\n",
      "0               1   AAPL  2021-07-08\n",
      "1               2   AAPL  2021-07-07\n",
      "2               3   AAPL  2021-07-06\n",
      "3               4   AAPL  2021-07-02\n",
      "4               5   AAPL  2021-07-01\n",
      "5               6   TSLA  2021-07-08\n",
      "   weather_data_key      name       date preciptype              conditions  \\\n",
      "0                 1  new york 2021-07-01       rain  Rain, Partially cloudy   \n",
      "1                 2  new york 2021-07-02       rain  Rain, Partially cloudy   \n",
      "2                 3  new york 2021-07-03       rain          Rain, Overcast   \n",
      "3                 4  new york 2021-07-04       rain  Rain, Partially cloudy   \n",
      "4                 5  new york 2021-07-05       None                   Clear   \n",
      "5                 6  new york 2021-07-06       rain  Rain, Partially cloudy   \n",
      "\n",
      "                                         description  \n",
      "0        Partly cloudy throughout the day with rain.  \n",
      "1        Partly cloudy throughout the day with rain.  \n",
      "2  Cloudy skies throughout the day with a chance ...  \n",
      "3  Partly cloudy throughout the day with afternoo...  \n",
      "4               Clear conditions throughout the day.  \n",
      "5  Partly cloudy throughout the day with late aft...  \n",
      "   taxi_data_key                date  trip_distance\n",
      "0              1 2021-07-01 00:35:36           1.20\n",
      "1              2 2021-07-02 06:17:23          15.63\n",
      "2              3 2021-07-03 09:09:48           0.15\n",
      "3              4 2021-07-04 00:00:00          13.20\n",
      "4              5 2021-07-05 06:49:52           2.69\n",
      "5              6 2021-07-06 07:31:03          28.87\n"
     ]
    }
   ],
   "source": [
    "# turning the sql databases into dataframes\n",
    "\n",
    "df_taxi = get_dataframe(user, password, host, sql_taxi)\n",
    "df_weather = get_dataframe(user, password, host, sql_weather)\n",
    "df_stocks = get_dataframe(user, password, host, sql_stock)\n",
    "\n",
    "# renaming date column in weather dim table\n",
    "df_weather.rename(columns={'datetime': 'date'}, inplace=True)\n",
    "\n",
    "# rename 'lpep_dropoff_datetime' to date in taxi dim table\n",
    "df_taxi.rename(columns={'dropoff_datetime': 'date'}, inplace=True)\n",
    "\n",
    "# print tables\n",
    "print(df_stocks.head(6))\n",
    "print(df_weather.head(6))\n",
    "print(df_taxi.head(6))"
   ]
  },
  {
   "cell_type": "markdown",
   "id": "464a981a-5f0d-4664-9683-d7f21b9befab",
   "metadata": {},
   "source": [
    "## Making the Fact Table"
   ]
  },
  {
   "cell_type": "markdown",
   "id": "6e022edb-ea6e-4517-b1c2-c3826292c7f1",
   "metadata": {},
   "source": [
    "### Variables"
   ]
  },
  {
   "cell_type": "code",
   "execution_count": 93,
   "id": "428d3b3a-548c-4372-ab2c-df6117b634b1",
   "metadata": {
    "tags": []
   },
   "outputs": [
    {
     "name": "stdout",
     "output_type": "stream",
     "text": [
      "Query successful\n"
     ]
    }
   ],
   "source": [
    "df_fact_table = pd.DataFrame()\n",
    "\n",
    "# SQL query to make fact table\n",
    "create_fact_table_query = \"\"\"\n",
    "CREATE TABLE IF NOT EXISTS ds_project.fact_table (\n",
    "    fact_data_key INT AUTO_INCREMENT PRIMARY KEY,\n",
    "    date DATE,\n",
    "    stock_data_key INT,\n",
    "    weather_data_key INT,\n",
    "    taxi_data_key INT,\n",
    "    trip_distance DECIMAL(10,2),\n",
    "    FOREIGN KEY (stock_data_key) REFERENCES ds_project.stocks_dim(stock_data_key),\n",
    "    FOREIGN KEY (weather_data_key) REFERENCES ds_project.weather_dim(weather_data_key),\n",
    "    FOREIGN KEY (taxi_data_key) REFERENCES ds_project.taxi_dim(taxi_data_key)\n",
    ");\n",
    "\"\"\"\n",
    "execute_query(connection, create_fact_table_query)\n"
   ]
  },
  {
   "cell_type": "code",
   "execution_count": 94,
   "id": "b6e3a69f-7710-4723-a8e8-5ec686b781eb",
   "metadata": {
    "tags": []
   },
   "outputs": [],
   "source": [
    "# transform date column in each dim table to all be date type\n",
    "df_stocks['date'] = pd.to_datetime(df_stocks['date']).dt.date\n",
    "df_weather['date'] = pd.to_datetime(df_weather['date']).dt.date\n",
    "df_taxi['date'] = pd.to_datetime(df_taxi['date']).dt.date\n",
    "\n",
    "# merge data frames together on date\n",
    "merged_df = pd.merge(df_stocks, df_weather, on='date', how='outer', suffixes=('_stock', '_weather'))\n",
    "merged_df = pd.merge(merged_df, df_taxi, on='date', how='outer')\n",
    "\n",
    "# rename keys to fit fact table structure\n",
    "merged_df.rename(columns={'stock_data_key': 'stock_data_key',\n",
    "                          'weather_data_key': 'weather_data_key',\n",
    "                          'taxi_data_key': 'taxi_data_key'\n",
    "}, inplace=True)\n",
    "\n",
    "# Connect to the database\n",
    "connection = create_engine(connection_string).connect()\n",
    "\n",
    "# only keep what is needed in fact table\n",
    "fact_table_df = merged_df[['date', 'stock_data_key', 'weather_data_key', 'taxi_data_key', 'trip_distance']]\n",
    "\n",
    "# write  fact table to sql\n",
    "fact_table_df.to_sql('fact_table', con=engine, schema='ds_project', if_exists='append', index=False)\n",
    "\n",
    "# close connection\n",
    "connection.close()"
   ]
  },
  {
   "cell_type": "markdown",
   "id": "e1a8936e-8b09-44a8-990f-3a3a0c6fa184",
   "metadata": {},
   "source": [
    "# SQL Queries"
   ]
  },
  {
   "cell_type": "code",
   "execution_count": 95,
   "id": "2be12e91-883e-44ad-bf80-692907b9c653",
   "metadata": {
    "tags": []
   },
   "outputs": [],
   "source": [
    "def get_dataframe(user_id, pwd, host_name, sql_query):\n",
    "    conn_str = f\"mysql+pymysql://{user_id}:{pwd}@{host_name}/ds_project\"\n",
    "    sqlEngine = create_engine(conn_str, pool_recycle=3600)\n",
    "    connection = sqlEngine.connect()\n",
    "    dframe = pd.read_sql(sql_query, connection);\n",
    "    connection.close()\n",
    "    \n",
    "    return dframe\n",
    "\n",
    "db_name = \"ds_project\""
   ]
  },
  {
   "cell_type": "code",
   "execution_count": 96,
   "id": "e11c743a-2991-48be-bc3c-3c6ad86899bb",
   "metadata": {
    "tags": []
   },
   "outputs": [
    {
     "data": {
      "text/html": [
       "<div>\n",
       "<style scoped>\n",
       "    .dataframe tbody tr th:only-of-type {\n",
       "        vertical-align: middle;\n",
       "    }\n",
       "\n",
       "    .dataframe tbody tr th {\n",
       "        vertical-align: top;\n",
       "    }\n",
       "\n",
       "    .dataframe thead th {\n",
       "        text-align: right;\n",
       "    }\n",
       "</style>\n",
       "<table border=\"1\" class=\"dataframe\">\n",
       "  <thead>\n",
       "    <tr style=\"text-align: right;\">\n",
       "      <th></th>\n",
       "      <th>conditions</th>\n",
       "      <th>total_distance</th>\n",
       "    </tr>\n",
       "  </thead>\n",
       "  <tbody>\n",
       "    <tr>\n",
       "      <th>0</th>\n",
       "      <td>Rain, Partially cloudy</td>\n",
       "      <td>1924.80</td>\n",
       "    </tr>\n",
       "    <tr>\n",
       "      <th>1</th>\n",
       "      <td>Rain</td>\n",
       "      <td>103.36</td>\n",
       "    </tr>\n",
       "    <tr>\n",
       "      <th>2</th>\n",
       "      <td>Rain, Overcast</td>\n",
       "      <td>1.20</td>\n",
       "    </tr>\n",
       "    <tr>\n",
       "      <th>3</th>\n",
       "      <td>Clear</td>\n",
       "      <td>21.52</td>\n",
       "    </tr>\n",
       "  </tbody>\n",
       "</table>\n",
       "</div>"
      ],
      "text/plain": [
       "               conditions  total_distance\n",
       "0  Rain, Partially cloudy         1924.80\n",
       "1                    Rain          103.36\n",
       "2          Rain, Overcast            1.20\n",
       "3                   Clear           21.52"
      ]
     },
     "execution_count": 96,
     "metadata": {},
     "output_type": "execute_result"
    }
   ],
   "source": [
    "sql_query1 = \"\"\"SELECT weather.conditions, SUM(taxi.trip_distance) AS total_distance\n",
    "FROM ds_project.fact_table AS fact\n",
    "INNER JOIN ds_project.taxi_dim AS taxi ON fact.taxi_data_key = taxi.taxi_data_key\n",
    "INNER JOIN ds_project.weather_dim AS weather ON fact.weather_data_key = weather.weather_data_key\n",
    "GROUP BY weather.conditions;\"\"\".format(db_name)\n",
    "\n",
    "q1 = get_dataframe(user,password,host,sql_query1)\n",
    "q1"
   ]
  },
  {
   "cell_type": "code",
   "execution_count": 97,
   "id": "11971c33-f938-4ade-91cb-a8f2b9b0db9a",
   "metadata": {
    "tags": []
   },
   "outputs": [
    {
     "data": {
      "text/html": [
       "<div>\n",
       "<style scoped>\n",
       "    .dataframe tbody tr th:only-of-type {\n",
       "        vertical-align: middle;\n",
       "    }\n",
       "\n",
       "    .dataframe tbody tr th {\n",
       "        vertical-align: top;\n",
       "    }\n",
       "\n",
       "    .dataframe thead th {\n",
       "        text-align: right;\n",
       "    }\n",
       "</style>\n",
       "<table border=\"1\" class=\"dataframe\">\n",
       "  <thead>\n",
       "    <tr style=\"text-align: right;\">\n",
       "      <th></th>\n",
       "      <th>conditions</th>\n",
       "      <th>description</th>\n",
       "      <th>ticker</th>\n",
       "    </tr>\n",
       "  </thead>\n",
       "  <tbody>\n",
       "    <tr>\n",
       "      <th>0</th>\n",
       "      <td>Rain, Partially cloudy</td>\n",
       "      <td>Becoming cloudy in the afternoon with rain.</td>\n",
       "      <td>AAPL</td>\n",
       "    </tr>\n",
       "    <tr>\n",
       "      <th>1</th>\n",
       "      <td>Rain, Partially cloudy</td>\n",
       "      <td>Becoming cloudy in the afternoon with rain.</td>\n",
       "      <td>AAPL</td>\n",
       "    </tr>\n",
       "    <tr>\n",
       "      <th>2</th>\n",
       "      <td>Rain, Partially cloudy</td>\n",
       "      <td>Becoming cloudy in the afternoon with rain.</td>\n",
       "      <td>AAPL</td>\n",
       "    </tr>\n",
       "    <tr>\n",
       "      <th>3</th>\n",
       "      <td>Rain, Partially cloudy</td>\n",
       "      <td>Becoming cloudy in the afternoon with rain.</td>\n",
       "      <td>AAPL</td>\n",
       "    </tr>\n",
       "    <tr>\n",
       "      <th>4</th>\n",
       "      <td>Rain, Partially cloudy</td>\n",
       "      <td>Becoming cloudy in the afternoon with rain.</td>\n",
       "      <td>AAPL</td>\n",
       "    </tr>\n",
       "    <tr>\n",
       "      <th>...</th>\n",
       "      <td>...</td>\n",
       "      <td>...</td>\n",
       "      <td>...</td>\n",
       "    </tr>\n",
       "    <tr>\n",
       "      <th>155</th>\n",
       "      <td>Rain, Partially cloudy</td>\n",
       "      <td>Partly cloudy throughout the day with rain.</td>\n",
       "      <td>GOOG</td>\n",
       "    </tr>\n",
       "    <tr>\n",
       "      <th>156</th>\n",
       "      <td>Rain, Partially cloudy</td>\n",
       "      <td>Partly cloudy throughout the day with rain.</td>\n",
       "      <td>GOOG</td>\n",
       "    </tr>\n",
       "    <tr>\n",
       "      <th>157</th>\n",
       "      <td>Rain, Partially cloudy</td>\n",
       "      <td>Partly cloudy throughout the day with rain.</td>\n",
       "      <td>GOOG</td>\n",
       "    </tr>\n",
       "    <tr>\n",
       "      <th>158</th>\n",
       "      <td>Rain, Partially cloudy</td>\n",
       "      <td>Partly cloudy throughout the day with rain.</td>\n",
       "      <td>GOOG</td>\n",
       "    </tr>\n",
       "    <tr>\n",
       "      <th>159</th>\n",
       "      <td>Rain, Partially cloudy</td>\n",
       "      <td>Partly cloudy throughout the day with rain.</td>\n",
       "      <td>GOOG</td>\n",
       "    </tr>\n",
       "  </tbody>\n",
       "</table>\n",
       "<p>160 rows × 3 columns</p>\n",
       "</div>"
      ],
      "text/plain": [
       "                 conditions                                  description  \\\n",
       "0    Rain, Partially cloudy  Becoming cloudy in the afternoon with rain.   \n",
       "1    Rain, Partially cloudy  Becoming cloudy in the afternoon with rain.   \n",
       "2    Rain, Partially cloudy  Becoming cloudy in the afternoon with rain.   \n",
       "3    Rain, Partially cloudy  Becoming cloudy in the afternoon with rain.   \n",
       "4    Rain, Partially cloudy  Becoming cloudy in the afternoon with rain.   \n",
       "..                      ...                                          ...   \n",
       "155  Rain, Partially cloudy  Partly cloudy throughout the day with rain.   \n",
       "156  Rain, Partially cloudy  Partly cloudy throughout the day with rain.   \n",
       "157  Rain, Partially cloudy  Partly cloudy throughout the day with rain.   \n",
       "158  Rain, Partially cloudy  Partly cloudy throughout the day with rain.   \n",
       "159  Rain, Partially cloudy  Partly cloudy throughout the day with rain.   \n",
       "\n",
       "    ticker  \n",
       "0     AAPL  \n",
       "1     AAPL  \n",
       "2     AAPL  \n",
       "3     AAPL  \n",
       "4     AAPL  \n",
       "..     ...  \n",
       "155   GOOG  \n",
       "156   GOOG  \n",
       "157   GOOG  \n",
       "158   GOOG  \n",
       "159   GOOG  \n",
       "\n",
       "[160 rows x 3 columns]"
      ]
     },
     "execution_count": 97,
     "metadata": {},
     "output_type": "execute_result"
    }
   ],
   "source": [
    "sql_q2 = \"\"\"SELECT weather.conditions, weather.description, stock.ticker\n",
    "FROM ds_project.fact_table AS fact\n",
    "INNER JOIN ds_project.weather_dim AS weather ON fact.weather_data_key = weather.weather_data_key\n",
    "INNER JOIN ds_project.stocks_dim AS stock ON fact.stock_data_key = stock.stock_data_key;\n",
    "\"\"\".format(db_name)\n",
    "\n",
    "q2 = get_dataframe(user,password,host,sql_q2)\n",
    "q2"
   ]
  },
  {
   "cell_type": "code",
   "execution_count": 99,
   "id": "3848712e-4132-4f8a-9174-51d8ac7eb659",
   "metadata": {
    "tags": []
   },
   "outputs": [
    {
     "data": {
      "text/html": [
       "<div>\n",
       "<style scoped>\n",
       "    .dataframe tbody tr th:only-of-type {\n",
       "        vertical-align: middle;\n",
       "    }\n",
       "\n",
       "    .dataframe tbody tr th {\n",
       "        vertical-align: top;\n",
       "    }\n",
       "\n",
       "    .dataframe thead th {\n",
       "        text-align: right;\n",
       "    }\n",
       "</style>\n",
       "<table border=\"1\" class=\"dataframe\">\n",
       "  <thead>\n",
       "    <tr style=\"text-align: right;\">\n",
       "      <th></th>\n",
       "      <th>dropoff_datetime</th>\n",
       "    </tr>\n",
       "  </thead>\n",
       "  <tbody>\n",
       "    <tr>\n",
       "      <th>0</th>\n",
       "      <td>2021-07-01 00:35:36</td>\n",
       "    </tr>\n",
       "    <tr>\n",
       "      <th>1</th>\n",
       "      <td>2021-07-02 06:17:23</td>\n",
       "    </tr>\n",
       "    <tr>\n",
       "      <th>2</th>\n",
       "      <td>2021-07-03 09:09:48</td>\n",
       "    </tr>\n",
       "    <tr>\n",
       "      <th>3</th>\n",
       "      <td>2021-07-04 00:00:00</td>\n",
       "    </tr>\n",
       "    <tr>\n",
       "      <th>4</th>\n",
       "      <td>2021-07-05 06:49:52</td>\n",
       "    </tr>\n",
       "    <tr>\n",
       "      <th>5</th>\n",
       "      <td>2021-07-06 07:31:03</td>\n",
       "    </tr>\n",
       "    <tr>\n",
       "      <th>6</th>\n",
       "      <td>2021-07-07 07:13:46</td>\n",
       "    </tr>\n",
       "    <tr>\n",
       "      <th>7</th>\n",
       "      <td>2021-07-08 00:00:00</td>\n",
       "    </tr>\n",
       "  </tbody>\n",
       "</table>\n",
       "</div>"
      ],
      "text/plain": [
       "     dropoff_datetime\n",
       "0 2021-07-01 00:35:36\n",
       "1 2021-07-02 06:17:23\n",
       "2 2021-07-03 09:09:48\n",
       "3 2021-07-04 00:00:00\n",
       "4 2021-07-05 06:49:52\n",
       "5 2021-07-06 07:31:03\n",
       "6 2021-07-07 07:13:46\n",
       "7 2021-07-08 00:00:00"
      ]
     },
     "execution_count": 99,
     "metadata": {},
     "output_type": "execute_result"
    }
   ],
   "source": [
    "sql_q3 = \"\"\"SELECT taxi.dropoff_datetime\n",
    "FROM fact_table\n",
    "INNER JOIN ds_project.taxi_dim AS taxi ON fact_table.taxi_data_key = taxi.taxi_data_key\n",
    "GROUP BY taxi.taxi_data_key;\"\"\".format(db_name)\n",
    "\n",
    "\n",
    "q3 = get_dataframe(user,password,host,sql_q3)\n",
    "q3"
   ]
  },
  {
   "cell_type": "code",
   "execution_count": null,
   "id": "f1212dd1-b607-4e53-b251-c76fcad58864",
   "metadata": {},
   "outputs": [],
   "source": []
  }
 ],
 "metadata": {
  "kernelspec": {
   "display_name": "Python 3 (ipykernel)",
   "language": "python",
   "name": "python3"
  },
  "language_info": {
   "codemirror_mode": {
    "name": "ipython",
    "version": 3
   },
   "file_extension": ".py",
   "mimetype": "text/x-python",
   "name": "python",
   "nbconvert_exporter": "python",
   "pygments_lexer": "ipython3",
   "version": "3.11.4"
  }
 },
 "nbformat": 4,
 "nbformat_minor": 5
}
